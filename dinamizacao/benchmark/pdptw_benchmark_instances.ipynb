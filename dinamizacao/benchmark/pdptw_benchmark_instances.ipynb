{
 "cells": [
  {
   "cell_type": "markdown",
   "metadata": {},
   "source": [
    "# PDPTW Benchmark Instances"
   ]
  },
  {
   "cell_type": "markdown",
   "metadata": {},
   "source": [
    "Este notebook tem como objetivo estudar e analisar os dados extraidos do [Scopus](https://www.scopus.com/) dos artigos...\n",
    "\n",
    "//TODO"
   ]
  },
  {
   "cell_type": "code",
   "execution_count": 1,
   "metadata": {},
   "outputs": [],
   "source": [
    "import pandas as pd\n",
    "import re\n",
    "import matplotlib.pyplot as plt\n",
    "plt.style.use('dark_background')\n",
    "% matplotlib inline"
   ]
  },
  {
   "cell_type": "code",
   "execution_count": 2,
   "metadata": {},
   "outputs": [],
   "source": [
    "# Importar dados dos arquivos, e concatena-los\n",
    "\n",
    "arquivos = [\"pdptw/li&lim(2003)/cite_li&lim(2003).csv\"]\n",
    "\n",
    "colunas_relevantes = ['Authors', 'Title', 'Year', 'Source title', 'Author Keywords', 'Index Keywords',\n",
    "                      'Abstract', 'Cited by', 'Document Type', 'Language of Original Document']\n",
    "\n",
    "def importar_csv_com_fonte(arquivo):\n",
    "    df = (pd.read_csv(arquivo, usecols=colunas_relevantes)\n",
    "            .assign(CiteArticle = re.search(\"/cite_(.*).csv\", arquivo).group(1))\n",
    "    )\n",
    "    return (df)\n",
    "\n",
    "\n",
    "artigos = (pd.concat(map(importar_csv_com_fonte, arquivos),)\n",
    "           .reset_index(drop=True)\n",
    ")"
   ]
  },
  {
   "cell_type": "code",
   "execution_count": 3,
   "metadata": {},
   "outputs": [
    {
     "data": {
      "text/plain": [
       "CiteArticle\n",
       "li&lim(2003)    142\n",
       "Name: Title, dtype: int64"
      ]
     },
     "execution_count": 3,
     "metadata": {},
     "output_type": "execute_result"
    }
   ],
   "source": [
    "# Verificar se todos os dados foram corretamente importados\n",
    "artigos.groupby(\"CiteArticle\")[\"Title\"].count()"
   ]
  },
  {
   "cell_type": "code",
   "execution_count": 4,
   "metadata": {},
   "outputs": [],
   "source": [
    "# Deletar dados duplicados\n",
    "artigos.drop_duplicates(subset=colunas_relevantes, inplace=True)"
   ]
  },
  {
   "cell_type": "markdown",
   "metadata": {},
   "source": [
    "Com os dados importados, procura-se filtrar os artigos que tratem de problemas dinâmicos. Para isso, será selecionado todo o artigo que mencionar a palavra \"Dynamic\" no título, resumo ou lista de palavras-chave"
   ]
  },
  {
   "cell_type": "code",
   "execution_count": 5,
   "metadata": {},
   "outputs": [],
   "source": [
    "artigos_dinamicos = (artigos.assign(AllKeywords = lambda x: x[\"Author Keywords\"].str.cat(x[\"Index Keywords\"], na_rep=\"\"))\n",
    "                            .assign(DynamicTitle = lambda x: x.Title.str.contains(\"Dynamic\"),\n",
    "                                    DynamicKeywords = lambda x: x.AllKeywords.str.contains(\"Dynamic\"),\n",
    "                                    DynamicAbstract = lambda x: x.Abstract.str.contains(\"Dynamic\"))\n",
    "                            .assign(DynamicAny = lambda x: (x.DynamicTitle | x.DynamicKeywords | x.DynamicAbstract))                        \n",
    ")\n",
    "artigos_dinamicos = artigos_dinamicos.loc[artigos_dinamicos[\"DynamicAny\"] == True,:]"
   ]
  },
  {
   "cell_type": "code",
   "execution_count": 6,
   "metadata": {},
   "outputs": [
    {
     "data": {
      "text/plain": [
       "(19, 16)"
      ]
     },
     "execution_count": 6,
     "metadata": {},
     "output_type": "execute_result"
    }
   ],
   "source": [
    "artigos_dinamicos.shape"
   ]
  },
  {
   "cell_type": "code",
   "execution_count": 7,
   "metadata": {},
   "outputs": [
    {
     "data": {
      "text/plain": [
       "Document Type\n",
       "Article             13\n",
       "Conference Paper     5\n",
       "Review               1\n",
       "Name: Title, dtype: int64"
      ]
     },
     "execution_count": 7,
     "metadata": {},
     "output_type": "execute_result"
    }
   ],
   "source": [
    "artigos_dinamicos.groupby(\"Document Type\")[\"Title\"].count()"
   ]
  },
  {
   "cell_type": "markdown",
   "metadata": {},
   "source": [
    "Com esse filtro aplicado, sobraram ....\n",
    "\n",
    "//TODO"
   ]
  },
  {
   "cell_type": "code",
   "execution_count": 8,
   "metadata": {},
   "outputs": [
    {
     "data": {
      "text/plain": [
       "Language of Original Document\n",
       "English    19\n",
       "Name: Title, dtype: int64"
      ]
     },
     "execution_count": 8,
     "metadata": {},
     "output_type": "execute_result"
    }
   ],
   "source": [
    "artigos_dinamicos.groupby(\"Language of Original Document\")[\"Title\"].count()"
   ]
  },
  {
   "cell_type": "markdown",
   "metadata": {},
   "source": [
    "Lendo o resumo dos artigos restantes, foi possível determinar quais tratam de DARP, ou PDPTW dinâmicos e quais executam experimentos computacionais. Todos os artigos que não cumprem essas exigências foram deletados da análise."
   ]
  },
  {
   "cell_type": "code",
   "execution_count": 9,
   "metadata": {},
   "outputs": [],
   "source": [
    "artigos_para_deletar = [\"An Incidental Delivery Based Method for Resolving Multirobot Pairwised Transportation Problems\",\n",
    "                        \"Multi-agent models for transportation problems with different strategies of environment information propagation\",\n",
    "                        \"Dynamic approach to solve the daily drayage problem with transit time uncertainty\",\n",
    "                        \"Dynamic allocation of unmanned aerial vehicles with communication constraints\",\n",
    "                        \"Restricted dynamic programming: A flexible framework for solving realistic VRPs\",\n",
    "                        \"Modeling rich and dynamic vehicle routing problems in heuristiclab\",\n",
    "                        \"Dynamic pickup and delivery with transfers\",\n",
    "                        \"Vehicle routing problems with alternative paths: An application to on-demand transportation\",\n",
    "                        \"Stopping and restarting strategy for stochastic sequential search in global optimization\",\n",
    "                        \"Multi-agent environment for modelling and solving dynamic transport problems\",\n",
    "                        \"Integration of vehicle routing and resource allocation in a dynamic logistics network\",\n",
    "                        \"Rolling horizon scheduling algorithm for dynamic vehicle scheduling system\",\n",
    "                        \"Multi-agent environment for dynamic transport planning and scheduling\",                       \n",
    "                       ]"
   ]
  },
  {
   "cell_type": "code",
   "execution_count": 10,
   "metadata": {},
   "outputs": [],
   "source": [
    "artigos_dinamicos_filtrados = artigos_dinamicos.drop(artigos_dinamicos[artigos_dinamicos[\"Title\"].isin(artigos_para_deletar)].index)"
   ]
  },
  {
   "cell_type": "code",
   "execution_count": 11,
   "metadata": {},
   "outputs": [
    {
     "data": {
      "text/plain": [
       "'Waiting and buffering strategies for the dynamic pickup and delivery problem with time windows'"
      ]
     },
     "execution_count": 11,
     "metadata": {},
     "output_type": "execute_result"
    }
   ],
   "source": [
    "artigos_dinamicos_filtrados.iloc[2,1]"
   ]
  },
  {
   "cell_type": "markdown",
   "metadata": {},
   "source": [
    "Através da leitura das seções dos artigos que denotam as características dos experimentos, observa-se quais as instâncias usadas. A informação observada está inserida na coluna `Instances` no `DataFrame` `artigos_dinamicos`."
   ]
  },
  {
   "cell_type": "code",
   "execution_count": 12,
   "metadata": {},
   "outputs": [],
   "source": [
    "artigos_com_benchmark = artigos_dinamicos_filtrados.assign(Instance = False)\n",
    "artigos_com_benchmark.loc[artigos_com_benchmark[\"Title\"].str.contains('Measures of dynamism and urgency in logistics'),\n",
    "                          \"Instance\"] = \"Self-made\"\n",
    "artigos_com_benchmark.loc[artigos_com_benchmark[\"Title\"].str.contains('Distribution of waiting time for dynamic pickup and delivery problems'),\n",
    "                          \"Instance\"] = \"Pankratz(2005)\"\n",
    "artigos_com_benchmark.loc[artigos_com_benchmark[\"Title\"].str.contains('Waiting and buffering strategies for the dynamic pickup and delivery problem with time windows'),\n",
    "                          \"Instance\"] = \"Li&Lim(2001)\"\n",
    "artigos_com_benchmark.loc[artigos_com_benchmark[\"Title\"].str.contains('Dynamic vehicle routing by means of a genetic algorithm'),\n",
    "                          \"Instance\"] = \"Pankratz(2005)\"\n",
    "artigos_com_benchmark.loc[artigos_com_benchmark[\"Title\"].str.contains('A vehicle scheduler for on-demand bus systems based on a heuristic cost estimation'),\n",
    "                          \"Instance\"] = \"Self-made\""
   ]
  },
  {
   "cell_type": "code",
   "execution_count": 13,
   "metadata": {},
   "outputs": [
    {
     "data": {
      "text/html": [
       "<div>\n",
       "<style scoped>\n",
       "    .dataframe tbody tr th:only-of-type {\n",
       "        vertical-align: middle;\n",
       "    }\n",
       "\n",
       "    .dataframe tbody tr th {\n",
       "        vertical-align: top;\n",
       "    }\n",
       "\n",
       "    .dataframe thead th {\n",
       "        text-align: right;\n",
       "    }\n",
       "</style>\n",
       "<table border=\"1\" class=\"dataframe\">\n",
       "  <thead>\n",
       "    <tr style=\"text-align: right;\">\n",
       "      <th></th>\n",
       "      <th>Authors</th>\n",
       "      <th>Title</th>\n",
       "      <th>Year</th>\n",
       "      <th>Source title</th>\n",
       "      <th>Cited by</th>\n",
       "      <th>Abstract</th>\n",
       "      <th>Author Keywords</th>\n",
       "      <th>Index Keywords</th>\n",
       "      <th>Language of Original Document</th>\n",
       "      <th>Document Type</th>\n",
       "      <th>CiteArticle</th>\n",
       "      <th>AllKeywords</th>\n",
       "      <th>DynamicTitle</th>\n",
       "      <th>DynamicKeywords</th>\n",
       "      <th>DynamicAbstract</th>\n",
       "      <th>DynamicAny</th>\n",
       "      <th>Instance</th>\n",
       "    </tr>\n",
       "  </thead>\n",
       "  <tbody>\n",
       "    <tr>\n",
       "      <th>11</th>\n",
       "      <td>Van Lon R.R.S., Ferrante E., Turgut A.E., Wens...</td>\n",
       "      <td>Measures of dynamism and urgency in logistics</td>\n",
       "      <td>2016</td>\n",
       "      <td>European Journal of Operational Research</td>\n",
       "      <td>3.0</td>\n",
       "      <td>Dynamism was originally defined as the proport...</td>\n",
       "      <td>Dynamism; Logistics; Measures; Transportation;...</td>\n",
       "      <td>Logistics; Mathematical models; Operations res...</td>\n",
       "      <td>English</td>\n",
       "      <td>Article</td>\n",
       "      <td>li&amp;lim(2003)</td>\n",
       "      <td>Dynamism; Logistics; Measures; Transportation;...</td>\n",
       "      <td>False</td>\n",
       "      <td>True</td>\n",
       "      <td>False</td>\n",
       "      <td>True</td>\n",
       "      <td>Self-made</td>\n",
       "    </tr>\n",
       "    <tr>\n",
       "      <th>25</th>\n",
       "      <td>Vonolfen S., Affenzeller M.</td>\n",
       "      <td>Distribution of waiting time for dynamic picku...</td>\n",
       "      <td>2016</td>\n",
       "      <td>Annals of Operations Research</td>\n",
       "      <td>6.0</td>\n",
       "      <td>Pickup and delivery problems have numerous app...</td>\n",
       "      <td>Direct policy search; Dynamic pickup and deliv...</td>\n",
       "      <td>NaN</td>\n",
       "      <td>English</td>\n",
       "      <td>Article</td>\n",
       "      <td>li&amp;lim(2003)</td>\n",
       "      <td>Direct policy search; Dynamic pickup and deliv...</td>\n",
       "      <td>False</td>\n",
       "      <td>True</td>\n",
       "      <td>False</td>\n",
       "      <td>True</td>\n",
       "      <td>Pankratz(2005)</td>\n",
       "    </tr>\n",
       "    <tr>\n",
       "      <th>96</th>\n",
       "      <td>Pureza V., Laporte G.</td>\n",
       "      <td>Waiting and buffering strategies for the dynam...</td>\n",
       "      <td>2008</td>\n",
       "      <td>INFOR</td>\n",
       "      <td>20.0</td>\n",
       "      <td>We investigate the impact of two strategies fo...</td>\n",
       "      <td>Dynamic pickup and delivery problems; Request ...</td>\n",
       "      <td>Buffering strategies; Conventional approaches;...</td>\n",
       "      <td>English</td>\n",
       "      <td>Article</td>\n",
       "      <td>li&amp;lim(2003)</td>\n",
       "      <td>Dynamic pickup and delivery problems; Request ...</td>\n",
       "      <td>False</td>\n",
       "      <td>True</td>\n",
       "      <td>False</td>\n",
       "      <td>True</td>\n",
       "      <td>Li&amp;Lim(2001)</td>\n",
       "    </tr>\n",
       "    <tr>\n",
       "      <th>118</th>\n",
       "      <td>Pankratz G.</td>\n",
       "      <td>Dynamic vehicle routing by means of a genetic ...</td>\n",
       "      <td>2005</td>\n",
       "      <td>International Journal of Physical Distribution...</td>\n",
       "      <td>29.0</td>\n",
       "      <td>Purpose - To propose and to evaluate a new gen...</td>\n",
       "      <td>Production scheduling; Programming and algorit...</td>\n",
       "      <td>NaN</td>\n",
       "      <td>English</td>\n",
       "      <td>Article</td>\n",
       "      <td>li&amp;lim(2003)</td>\n",
       "      <td>Production scheduling; Programming and algorit...</td>\n",
       "      <td>True</td>\n",
       "      <td>False</td>\n",
       "      <td>False</td>\n",
       "      <td>True</td>\n",
       "      <td>Pankratz(2005)</td>\n",
       "    </tr>\n",
       "    <tr>\n",
       "      <th>138</th>\n",
       "      <td>Fujita S., Nakatani A.</td>\n",
       "      <td>A vehicle scheduler for on-demand bus systems ...</td>\n",
       "      <td>2003</td>\n",
       "      <td>IEEE Conference on Intelligent Transportation ...</td>\n",
       "      <td>2.0</td>\n",
       "      <td>This paper proposes a scheduling scheme for so...</td>\n",
       "      <td>NaN</td>\n",
       "      <td>Costs; Dynamic programming; Intelligent system...</td>\n",
       "      <td>English</td>\n",
       "      <td>Conference Paper</td>\n",
       "      <td>li&amp;lim(2003)</td>\n",
       "      <td>Costs; Dynamic programming; Intelligent system...</td>\n",
       "      <td>False</td>\n",
       "      <td>True</td>\n",
       "      <td>False</td>\n",
       "      <td>True</td>\n",
       "      <td>Self-made</td>\n",
       "    </tr>\n",
       "  </tbody>\n",
       "</table>\n",
       "</div>"
      ],
      "text/plain": [
       "                                               Authors  \\\n",
       "11   Van Lon R.R.S., Ferrante E., Turgut A.E., Wens...   \n",
       "25                         Vonolfen S., Affenzeller M.   \n",
       "96                               Pureza V., Laporte G.   \n",
       "118                                        Pankratz G.   \n",
       "138                             Fujita S., Nakatani A.   \n",
       "\n",
       "                                                 Title  Year  \\\n",
       "11       Measures of dynamism and urgency in logistics  2016   \n",
       "25   Distribution of waiting time for dynamic picku...  2016   \n",
       "96   Waiting and buffering strategies for the dynam...  2008   \n",
       "118  Dynamic vehicle routing by means of a genetic ...  2005   \n",
       "138  A vehicle scheduler for on-demand bus systems ...  2003   \n",
       "\n",
       "                                          Source title  Cited by  \\\n",
       "11            European Journal of Operational Research       3.0   \n",
       "25                       Annals of Operations Research       6.0   \n",
       "96                                               INFOR      20.0   \n",
       "118  International Journal of Physical Distribution...      29.0   \n",
       "138  IEEE Conference on Intelligent Transportation ...       2.0   \n",
       "\n",
       "                                              Abstract  \\\n",
       "11   Dynamism was originally defined as the proport...   \n",
       "25   Pickup and delivery problems have numerous app...   \n",
       "96   We investigate the impact of two strategies fo...   \n",
       "118  Purpose - To propose and to evaluate a new gen...   \n",
       "138  This paper proposes a scheduling scheme for so...   \n",
       "\n",
       "                                       Author Keywords  \\\n",
       "11   Dynamism; Logistics; Measures; Transportation;...   \n",
       "25   Direct policy search; Dynamic pickup and deliv...   \n",
       "96   Dynamic pickup and delivery problems; Request ...   \n",
       "118  Production scheduling; Programming and algorit...   \n",
       "138                                                NaN   \n",
       "\n",
       "                                        Index Keywords  \\\n",
       "11   Logistics; Mathematical models; Operations res...   \n",
       "25                                                 NaN   \n",
       "96   Buffering strategies; Conventional approaches;...   \n",
       "118                                                NaN   \n",
       "138  Costs; Dynamic programming; Intelligent system...   \n",
       "\n",
       "    Language of Original Document     Document Type   CiteArticle  \\\n",
       "11                        English           Article  li&lim(2003)   \n",
       "25                        English           Article  li&lim(2003)   \n",
       "96                        English           Article  li&lim(2003)   \n",
       "118                       English           Article  li&lim(2003)   \n",
       "138                       English  Conference Paper  li&lim(2003)   \n",
       "\n",
       "                                           AllKeywords  DynamicTitle  \\\n",
       "11   Dynamism; Logistics; Measures; Transportation;...         False   \n",
       "25   Direct policy search; Dynamic pickup and deliv...         False   \n",
       "96   Dynamic pickup and delivery problems; Request ...         False   \n",
       "118  Production scheduling; Programming and algorit...          True   \n",
       "138  Costs; Dynamic programming; Intelligent system...         False   \n",
       "\n",
       "     DynamicKeywords  DynamicAbstract  DynamicAny        Instance  \n",
       "11              True            False        True       Self-made  \n",
       "25              True            False        True  Pankratz(2005)  \n",
       "96              True            False        True    Li&Lim(2001)  \n",
       "118            False            False        True  Pankratz(2005)  \n",
       "138             True            False        True       Self-made  "
      ]
     },
     "execution_count": 13,
     "metadata": {},
     "output_type": "execute_result"
    }
   ],
   "source": [
    "artigos_com_benchmark"
   ]
  }
 ],
 "metadata": {
  "kernelspec": {
   "display_name": "Python 3",
   "language": "python",
   "name": "python3"
  },
  "language_info": {
   "codemirror_mode": {
    "name": "ipython",
    "version": 3
   },
   "file_extension": ".py",
   "mimetype": "text/x-python",
   "name": "python",
   "nbconvert_exporter": "python",
   "pygments_lexer": "ipython3",
   "version": "3.7.0"
  }
 },
 "nbformat": 4,
 "nbformat_minor": 2
}
