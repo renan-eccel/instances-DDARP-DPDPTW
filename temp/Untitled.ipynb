{
 "cells": [
  {
   "cell_type": "markdown",
   "metadata": {},
   "source": [
    "Dinamização utilizada por [Berbeglia (2012)](https://doi.org/10.1287/ijoc.1110.0454) para as instâncias de [Ropke (2007)](https://doi.org/10.1002/net.20177)"
   ]
  },
  {
   "cell_type": "markdown",
   "metadata": {},
   "source": [
    "\\begin{equation}\n",
    "\\mathcal{U}(i) = \\min\\{l_{i+},\\ l_{i-},\\ l_{i-} - T_{i+i-} - D_{i+}\\}\n",
    "\\end{equation}\n",
    "\n",
    "\\begin{equation}\n",
    "I(i) = \\mathcal{U}(i) - \\beta\n",
    "\\end{equation}\n",
    "\n",
    "\n",
    "Onde:\n",
    "* $\\mathcal{U}(i)$: Limite superior de tempo no qual o pedido $i$ pode ser servido\n",
    "* $l_{i+}$: Limite superior da janela de tempo no ponto de partida do pedido $i$ \n",
    "* $l_{i-}$: Limite inferior da janela de tempo do ponto de chegada do pedido $i$\n",
    "* $T_{i+i-}$: tempo de viagem entre os pontos de partida e chegada do pedido $i$\n",
    "\n"
   ]
  },
  {
   "cell_type": "code",
   "execution_count": null,
   "metadata": {},
   "outputs": [],
   "source": []
  }
 ],
 "metadata": {
  "kernelspec": {
   "display_name": "Python 3",
   "language": "python",
   "name": "python3"
  },
  "language_info": {
   "codemirror_mode": {
    "name": "ipython",
    "version": 3
   },
   "file_extension": ".py",
   "mimetype": "text/x-python",
   "name": "python",
   "nbconvert_exporter": "python",
   "pygments_lexer": "ipython3",
   "version": "3.6.5"
  }
 },
 "nbformat": 4,
 "nbformat_minor": 2
}
